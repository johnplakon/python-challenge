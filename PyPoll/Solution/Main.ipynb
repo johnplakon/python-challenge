{
 "cells": [
  {
   "cell_type": "code",
   "execution_count": 9,
   "metadata": {},
   "outputs": [
    {
     "name": "stdout",
     "output_type": "stream",
     "text": [
      "         Voter ID   County Candidate\n",
      "0        12864552    Marsh      Khan\n",
      "1        17444633    Marsh    Correy\n",
      "2        19330107    Marsh      Khan\n",
      "3        19865775    Queen      Khan\n",
      "4        11927875    Marsh      Khan\n",
      "5        19014606    Marsh        Li\n",
      "6        17775191    Queen    Correy\n",
      "7        14003692    Marsh      Khan\n",
      "8        14255761    Marsh      Khan\n",
      "9        13870173    Marsh    Correy\n",
      "10       16793141    Marsh      Khan\n",
      "11       10591158    Bamoo    Correy\n",
      "12       12344763  Trandee      Khan\n",
      "13       18611011    Marsh      Khan\n",
      "14       17845903    Marsh    Correy\n",
      "15       12621425  Trandee      Khan\n",
      "16       14365844    Marsh    Correy\n",
      "17       13444989    Marsh    Correy\n",
      "18       19204501  Trandee      Khan\n",
      "19       10098063    Queen    Correy\n",
      "20       19843246    Marsh    Correy\n",
      "21       11509120    Marsh    Correy\n",
      "22       13402499    Marsh    Correy\n",
      "23       18138694    Marsh      Khan\n",
      "24       15056703    Marsh      Khan\n",
      "25       12026178    Queen      Khan\n",
      "26       16667390    Marsh      Khan\n",
      "27       12847422    Queen      Khan\n",
      "28       10599242    Marsh      Khan\n",
      "29       18558857    Queen    Correy\n",
      "...           ...      ...       ...\n",
      "3520971  17923362    Marsh      Khan\n",
      "3520972  11357988    Marsh      Khan\n",
      "3520973  13741548    Marsh    Correy\n",
      "3520974  19929693    Marsh      Khan\n",
      "3520975  16441960    Marsh      Khan\n",
      "3520976  19992954    Marsh  O'Tooley\n",
      "3520977  13845046    Marsh      Khan\n",
      "3520978  18550834    Marsh    Correy\n",
      "3520979  17540334    Queen      Khan\n",
      "3520980  11020483    Queen  O'Tooley\n",
      "3520981  15912885  Trandee      Khan\n",
      "3520982  12609301    Marsh      Khan\n",
      "3520983  14774584    Marsh        Li\n",
      "3520984  13283796    Marsh      Khan\n",
      "3520985  13359648    Bamoo      Khan\n",
      "3520986  17391173    Queen    Correy\n",
      "3520987  18995053    Queen      Khan\n",
      "3520988  11867516    Bamoo        Li\n",
      "3520989  18589143    Marsh      Khan\n",
      "3520990  12282098    Marsh      Khan\n",
      "3520991  16950418    Marsh    Correy\n",
      "3520992  13715415    Marsh      Khan\n",
      "3520993  18129849    Marsh      Khan\n",
      "3520994  15785886    Marsh    Correy\n",
      "3520995  12890090    Marsh    Correy\n",
      "3520996  18050509    Marsh      Khan\n",
      "3520997  13060332    Marsh      Khan\n",
      "3520998  16754708    Queen      Khan\n",
      "3520999  12083146    Queen      Khan\n",
      "3521000  14526187    Queen  O'Tooley\n",
      "\n",
      "[3521001 rows x 3 columns]\n"
     ]
    }
   ],
   "source": [
    "# import library\n",
    "import pandas as pd\n",
    "\n",
    "# read a file\n",
    "data_file = pd.read_csv(\"election_data.csv\")\n",
    "\n",
    "print(data_file)"
   ]
  },
  {
   "cell_type": "code",
   "execution_count": 10,
   "metadata": {},
   "outputs": [
    {
     "data": {
      "text/plain": [
       "3521001"
      ]
     },
     "execution_count": 10,
     "metadata": {},
     "output_type": "execute_result"
    }
   ],
   "source": [
    "\n",
    "# calculate the total number of votes\n",
    "total_votes = len(data_file)\n",
    "total_votes"
   ]
  },
  {
   "cell_type": "code",
   "execution_count": 11,
   "metadata": {},
   "outputs": [
    {
     "data": {
      "text/plain": [
       "Khan        2218231\n",
       "Correy       704200\n",
       "Li           492940\n",
       "O'Tooley     105630\n",
       "Name: Candidate, dtype: int64"
      ]
     },
     "execution_count": 11,
     "metadata": {},
     "output_type": "execute_result"
    }
   ],
   "source": [
    "# list of candidates who received votes\n",
    "candidates_count = data_file[\"Candidate\"].value_counts()\n",
    "candidates_count"
   ]
  },
  {
   "cell_type": "code",
   "execution_count": 12,
   "metadata": {},
   "outputs": [
    {
     "data": {
      "text/plain": [
       "Khan        63.000011\n",
       "Correy      19.999994\n",
       "Li          13.999996\n",
       "O'Tooley     2.999999\n",
       "Name: Candidate, dtype: float64"
      ]
     },
     "execution_count": 12,
     "metadata": {},
     "output_type": "execute_result"
    }
   ],
   "source": [
    "# percentage of votes each candidate won\n",
    "percentage_votes = (candidates_count/total_votes)*100\n",
    "percentage_votes"
   ]
  },
  {
   "cell_type": "code",
   "execution_count": 13,
   "metadata": {},
   "outputs": [
    {
     "data": {
      "text/plain": [
       "'Khan'"
      ]
     },
     "execution_count": 13,
     "metadata": {},
     "output_type": "execute_result"
    }
   ],
   "source": [
    "# announce the winner\n",
    "winner = candidates_count.idxmax()\n",
    "winner"
   ]
  },
  {
   "cell_type": "code",
   "execution_count": 14,
   "metadata": {},
   "outputs": [
    {
     "name": "stdout",
     "output_type": "stream",
     "text": [
      "Election results\n",
      "--------------------------------------------------------------------------\n",
      "Total votes: 3521001\n",
      "----------------------------------------------------------------------------\n",
      "Khan: 63.0%(2218231)\n",
      "Correy: 20.0%(704200)\n",
      "Li: 14.0%(492940)\n",
      "O'Tooley: 3.0%(105630)\n",
      "----------------------------------------------------------------------------------------\n",
      "winner: Khan\n"
     ]
    }
   ],
   "source": [
    "# print the results\n",
    "print(\"Election results\")\n",
    "\n",
    "print(\"--------------------------------------------------------------------------\")\n",
    "\n",
    "print(\"Total votes: \" + str(total_votes))\n",
    "\n",
    "print(\"----------------------------------------------------------------------------\")\n",
    "\n",
    "print(\"Khan:\" + \" \" + str(round(percentage_votes[0],3)) + \"%\" + \"(\"+str(candidates_count[0])+\")\")\n",
    "      \n",
    "print(\"Correy:\" + \" \" + str(round(percentage_votes[1],3)) + \"%\" + \"(\"+str(candidates_count[1])+\")\")\n",
    "      \n",
    "print(\"Li:\" + \" \" + str(round(percentage_votes[2],3)) + \"%\" + \"(\"+str(candidates_count[2])+\")\")\n",
    "      \n",
    "print(\"O'Tooley:\" + \" \" + str(round(percentage_votes[3],3)) + \"%\" + \"(\"+str(candidates_count[3])+\")\")\n",
    "\n",
    "print(\"----------------------------------------------------------------------------------------\")\n",
    "      \n",
    "print(\"winner: \" + winner)"
   ]
  },
  {
   "cell_type": "code",
   "execution_count": 15,
   "metadata": {},
   "outputs": [],
   "source": [
    "# convert the output into a text file\n",
    "file = open('pypoll.txt','w')\n",
    "file.write(\"Election results\")\n",
    "file.write(\"\\n....................................................................................\")\n",
    "file.write(\"\\nTotal votes: \" + str(total_votes))\n",
    "file.write(\"\\n----------------------------------------------------------------------------\")\n",
    "file.write(\"\\nKhan:\" + \" \" + str(round(percentage_votes[0],3)) + \"%\" + \"(\"+str(candidates_count[0])+\")\")\n",
    "file.write(\"\\nCorrey:\" + \" \" + str(round(percentage_votes[1],3)) + \"%\" + \"(\"+str(candidates_count[1])+\")\")\n",
    "file.write(\"\\nLi:\" + \" \" + str(round(percentage_votes[2],3)) + \"%\" + \"(\"+str(candidates_count[2])+\")\")\n",
    "file.write(\"\\nO'Tooley:\" + \" \" + str(round(percentage_votes[3],3)) + \"%\" + \"(\"+str(candidates_count[3])+\")\")\n",
    "file.write(\"\\n----------------------------------------------------------------------------------------\")\n",
    "file.write(\"\\nwinner: \" + winner)\n",
    "file.close()"
   ]
  },
  {
   "cell_type": "code",
   "execution_count": null,
   "metadata": {},
   "outputs": [],
   "source": []
  }
 ],
 "metadata": {
  "kernelspec": {
   "display_name": "Python 3",
   "language": "python",
   "name": "python3"
  },
  "language_info": {
   "codemirror_mode": {
    "name": "ipython",
    "version": 3
   },
   "file_extension": ".py",
   "mimetype": "text/x-python",
   "name": "python",
   "nbconvert_exporter": "python",
   "pygments_lexer": "ipython3",
   "version": "3.7.3"
  }
 },
 "nbformat": 4,
 "nbformat_minor": 2
}
